{
  "nbformat": 4,
  "nbformat_minor": 0,
  "metadata": {
    "colab": {
      "name": "tiler.ipynb",
      "provenance": []
    },
    "kernelspec": {
      "name": "python3",
      "display_name": "Python 3"
    },
    "language_info": {
      "name": "python"
    }
  },
  "cells": [
    {
      "cell_type": "code",
      "execution_count": 1,
      "metadata": {
        "id": "cBzGv8uxeYmF"
      },
      "outputs": [],
      "source": [
        "from google.colab import auth\n",
        "auth.authenticate_user()"
      ]
    },
    {
      "cell_type": "code",
      "source": [
        "import ee\n",
        "ee.Authenticate()\n",
        "ee.Initialize()"
      ],
      "metadata": {
        "colab": {
          "base_uri": "https://localhost:8080/"
        },
        "id": "1BhdQLpceakc",
        "outputId": "22974392-6b8a-4cbc-8233-466089cb2a4c"
      },
      "execution_count": 2,
      "outputs": [
        {
          "output_type": "stream",
          "name": "stdout",
          "text": [
            "To authorize access needed by Earth Engine, open the following URL in a web browser and follow the instructions. If the web browser does not start automatically, please manually browse the URL below.\n",
            "\n",
            "    https://accounts.google.com/o/oauth2/auth?client_id=517222506229-vsmmajv00ul0bs7p89v5m89qs8eb9359.apps.googleusercontent.com&scope=https%3A%2F%2Fwww.googleapis.com%2Fauth%2Fearthengine+https%3A%2F%2Fwww.googleapis.com%2Fauth%2Fdevstorage.full_control&redirect_uri=urn%3Aietf%3Awg%3Aoauth%3A2.0%3Aoob&response_type=code&code_challenge=-7DDn65i10SL3QtV_tRcVwa9CE5WOYmK67qFmf6ftJY&code_challenge_method=S256\n",
            "\n",
            "The authorization workflow will generate a code, which you should paste in the box below. \n",
            "Enter verification code: 4/1AX4XfWgFn6mqqeyYFz_fnrX3rqIiCysVnF0Zjus02Mi4ltaBRQSuoNxRr8w\n",
            "\n",
            "Successfully saved authorization token.\n"
          ]
        }
      ]
    },
    {
      "cell_type": "code",
      "source": [
        "STATEFP = 12\n",
        "STATENM = \"FLORIDA\""
      ],
      "metadata": {
        "id": "1kXsVtSOfWwU"
      },
      "execution_count": 25,
      "outputs": []
    },
    {
      "cell_type": "code",
      "source": [
        "state = ee.FeatureCollection(\"TIGER/2016/States\").filter(ee.Filter.eq('STATEFP', str(STATEFP)))\n",
        "counties = ee.FeatureCollection(\"TIGER/2016/Counties\").filter(ee.Filter.eq('STATEFP', str(STATEFP)))"
      ],
      "metadata": {
        "id": "R8DzB54zeb5t"
      },
      "execution_count": 8,
      "outputs": []
    },
    {
      "cell_type": "code",
      "source": [
        "elevation = ee.Image('USGS/NED').select('elevation')\n",
        "slope = ee.Terrain.slope(elevation).clip(state)"
      ],
      "metadata": {
        "id": "zxhFmnNte-cj"
      },
      "execution_count": 10,
      "outputs": []
    },
    {
      "cell_type": "code",
      "source": [
        "landcover2011 = ee.Image(\"USGS/NLCD/NLCD2011\").select('landcover').clip(state) \n",
        "landcover2016 = ee.Image(\"USGS/NLCD/NLCD2016\").select('landcover').clip(state)\n",
        "  \n",
        "impervious2011 = ee.Image(\"USGS/NLCD/NLCD2011\").select('impervious').clip(state)\n",
        "impervious2016 = ee.Image(\"USGS/NLCD/NLCD2016\").select('impervious').clip(state)"
      ],
      "metadata": {
        "id": "3LaAC865gJ-i"
      },
      "execution_count": 12,
      "outputs": []
    },
    {
      "cell_type": "code",
      "source": [
        "opticalBands = ['B1', 'B2', 'B3', 'B4', 'B5', 'B6', 'B7']\n",
        "thermalBands = ['B10', 'B11']\n",
        "\n",
        "def maskL8sr(image):\n",
        "  \n",
        "  #stock method to remove clouds\n",
        "  cloudShadowBitMask = ee.Number(2).pow(3).int()\n",
        "  cloudsBitMask = ee.Number(2).pow(5).int()\n",
        "  qa = image.select('pixel_qa')\n",
        "  mask1 = qa.bitwiseAnd(cloudShadowBitMask).eq(0).And(qa.bitwiseAnd(cloudsBitMask).eq(0))\n",
        "  mask2 = image.mask().reduce('min')\n",
        "  mask3 = image.select(opticalBands).gt(0).And(\n",
        "          image.select(opticalBands).lt(10000)).reduce('min')\n",
        "  mask = mask1.And(mask2).And(mask3)\n",
        "\n",
        "  #perform adjustments to make the numbers more sensical\n",
        "  return image.select(opticalBands).divide(10000).addBands(\n",
        "      image.select(thermalBands).divide(10).clamp(273.15, 373.15).subtract(273.15).divide(100)).updateMask(mask)"
      ],
      "metadata": {
        "id": "FrYxROOnfn7T"
      },
      "execution_count": 15,
      "outputs": []
    },
    {
      "cell_type": "code",
      "source": [
        "l8 = ee.ImageCollection('LANDSAT/LC08/C01/T1_SR').filterDate('2020-01-01', '2020-12-31').map(maskL8sr);"
      ],
      "metadata": {
        "id": "LsJAxB3KgF9t"
      },
      "execution_count": 16,
      "outputs": []
    },
    {
      "cell_type": "code",
      "source": [
        "def ndvier(image):\n",
        "  ndvied = image.normalizedDifference(['B5', 'B4']).rename('NDVI');\n",
        "  return image.addBands(ndvied);"
      ],
      "metadata": {
        "id": "Vk4aPF6uguFB"
      },
      "execution_count": 22,
      "outputs": []
    },
    {
      "cell_type": "code",
      "source": [
        "ndvied = l8.map(ndvier)\n",
        "ndviest = ndvied.qualityMosaic('NDVI').select('NDVI').clip(state)"
      ],
      "metadata": {
        "id": "SxJyyQPjhHsm"
      },
      "execution_count": 23,
      "outputs": []
    },
    {
      "cell_type": "code",
      "source": [
        "composite = landcover2016.addBands([landcover2011, impervious2016, impervious2011, slope, ndviest])\n",
        "composite = composite.float()"
      ],
      "metadata": {
        "id": "PzDnMKuvhS0u"
      },
      "execution_count": 24,
      "outputs": []
    },
    {
      "cell_type": "code",
      "source": [
        "countylist = counties.toList(counties.size())"
      ],
      "metadata": {
        "id": "tTUbghkZjAPb"
      },
      "execution_count": 30,
      "outputs": []
    },
    {
      "cell_type": "code",
      "source": [
        "for g in range(counties.size().getInfo()):  \n",
        "  COUNTYNM = ee.Feature(countylist.get(g)).get(\"NAME\").getInfo()\n",
        "\n",
        "  desc =  str(STATENM) + '_comp_' + str(COUNTYNM)\n",
        "  print(desc)\n",
        "  task = ee.batch.Export.image.toDrive(\n",
        "    image = composite,\n",
        "    folder = STATENM,\n",
        "    fileNamePrefix = desc,\n",
        "    description = desc, \n",
        "    region = ee.Feature(countylist.get(g)).geometry(), \n",
        "    scale = 30, \n",
        "  )\n",
        "\n",
        "  task.start()"
      ],
      "metadata": {
        "colab": {
          "base_uri": "https://localhost:8080/"
        },
        "id": "LwQKkFZTh9Rb",
        "outputId": "854a681a-971e-498f-fa62-3f111a1819f6"
      },
      "execution_count": 39,
      "outputs": [
        {
          "output_type": "stream",
          "name": "stdout",
          "text": [
            "FLORIDA_comp_Okaloosa\n",
            "FLORIDA_comp_Walton\n",
            "FLORIDA_comp_Bay\n",
            "FLORIDA_comp_Gulf\n",
            "FLORIDA_comp_Pinellas\n",
            "FLORIDA_comp_Pasco\n",
            "FLORIDA_comp_Hernando\n",
            "FLORIDA_comp_Hillsborough\n",
            "FLORIDA_comp_Monroe\n",
            "FLORIDA_comp_Hendry\n",
            "FLORIDA_comp_Highlands\n",
            "FLORIDA_comp_Polk\n",
            "FLORIDA_comp_Hardee\n",
            "FLORIDA_comp_Brevard\n",
            "FLORIDA_comp_Marion\n",
            "FLORIDA_comp_Citrus\n",
            "FLORIDA_comp_Lee\n",
            "FLORIDA_comp_Collier\n",
            "FLORIDA_comp_Alachua\n",
            "FLORIDA_comp_Columbia\n",
            "FLORIDA_comp_Gilchrist\n",
            "FLORIDA_comp_St. Johns\n",
            "FLORIDA_comp_Duval\n",
            "FLORIDA_comp_Nassau\n",
            "FLORIDA_comp_Baker\n",
            "FLORIDA_comp_Clay\n",
            "FLORIDA_comp_Putnam\n",
            "FLORIDA_comp_Miami-Dade\n",
            "FLORIDA_comp_Broward\n",
            "FLORIDA_comp_Palm Beach\n",
            "FLORIDA_comp_Okeechobee\n",
            "FLORIDA_comp_Martin\n",
            "FLORIDA_comp_Indian River\n",
            "FLORIDA_comp_St. Lucie\n",
            "FLORIDA_comp_Manatee\n",
            "FLORIDA_comp_Sarasota\n",
            "FLORIDA_comp_Charlotte\n",
            "FLORIDA_comp_DeSoto\n",
            "FLORIDA_comp_Sumter\n",
            "FLORIDA_comp_Lake\n",
            "FLORIDA_comp_Osceola\n",
            "FLORIDA_comp_Orange\n",
            "FLORIDA_comp_Volusia\n",
            "FLORIDA_comp_Flagler\n",
            "FLORIDA_comp_Seminole\n",
            "FLORIDA_comp_Santa Rosa\n",
            "FLORIDA_comp_Escambia\n",
            "FLORIDA_comp_Wakulla\n",
            "FLORIDA_comp_Jefferson\n",
            "FLORIDA_comp_Leon\n",
            "FLORIDA_comp_Gadsden\n",
            "FLORIDA_comp_Holmes\n",
            "FLORIDA_comp_Jackson\n",
            "FLORIDA_comp_Washington\n",
            "FLORIDA_comp_Calhoun\n",
            "FLORIDA_comp_Liberty\n",
            "FLORIDA_comp_Franklin\n",
            "FLORIDA_comp_Glades\n",
            "FLORIDA_comp_Bradford\n",
            "FLORIDA_comp_Union\n",
            "FLORIDA_comp_Levy\n",
            "FLORIDA_comp_Suwannee\n",
            "FLORIDA_comp_Lafayette\n",
            "FLORIDA_comp_Dixie\n",
            "FLORIDA_comp_Taylor\n",
            "FLORIDA_comp_Madison\n",
            "FLORIDA_comp_Hamilton\n"
          ]
        }
      ]
    },
    {
      "cell_type": "code",
      "source": [
        ""
      ],
      "metadata": {
        "id": "gBa4PzbMjpdZ"
      },
      "execution_count": null,
      "outputs": []
    }
  ]
}