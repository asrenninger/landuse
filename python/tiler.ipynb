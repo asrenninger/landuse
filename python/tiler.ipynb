{
  "nbformat": 4,
  "nbformat_minor": 0,
  "metadata": {
    "colab": {
      "name": "tiler.ipynb",
      "provenance": []
    },
    "kernelspec": {
      "name": "python3",
      "display_name": "Python 3"
    },
    "language_info": {
      "name": "python"
    }
  },
  "cells": [
    {
      "cell_type": "markdown",
      "source": [
        "# Imagery for predictors"
      ],
      "metadata": {
        "id": "IgpJKC4Mmihl"
      }
    },
    {
      "cell_type": "code",
      "execution_count": 1,
      "metadata": {
        "id": "cBzGv8uxeYmF"
      },
      "outputs": [],
      "source": [
        "from google.colab import auth\n",
        "auth.authenticate_user()"
      ]
    },
    {
      "cell_type": "code",
      "source": [
        "import ee\n",
        "ee.Authenticate()\n",
        "ee.Initialize()"
      ],
      "metadata": {
        "colab": {
          "base_uri": "https://localhost:8080/"
        },
        "id": "1BhdQLpceakc",
        "outputId": "7fe9a22e-11ce-417f-ef1a-cf7612cdc1ee"
      },
      "execution_count": 2,
      "outputs": [
        {
          "output_type": "stream",
          "name": "stdout",
          "text": [
            "To authorize access needed by Earth Engine, open the following URL in a web browser and follow the instructions. If the web browser does not start automatically, please manually browse the URL below.\n",
            "\n",
            "    https://code.earthengine.google.com/client-auth?scopes=https%3A//www.googleapis.com/auth/earthengine%20https%3A//www.googleapis.com/auth/devstorage.full_control&request_id=Mp0QlAwJob7D0K15P60hy6Y_K5jG8psqzHUoG0YAsac&tc=lJd27SGIs4NYCPeA4bMJUio95LjlAblyZZco2pbpCaI&cc=l6lIGbdCTPF0Ob2gst8sZxRkvlixfxTQda1xbtenlCI\n",
            "\n",
            "The authorization workflow will generate a code, which you should paste in the box below. \n",
            "Enter verification code: 4/1AdQt8qiErDecr72WNT3mWYW7QhR00pV6jNVz_O7c0yOuSWWAvvos9-HOWq4\n",
            "\n",
            "Successfully saved authorization token.\n"
          ]
        }
      ]
    },
    {
      "cell_type": "code",
      "source": [
        "STATEFP = \"04\"\n",
        "STATENM = \"ARIZONA\""
      ],
      "metadata": {
        "id": "1kXsVtSOfWwU"
      },
      "execution_count": 3,
      "outputs": []
    },
    {
      "cell_type": "code",
      "source": [
        "state = ee.FeatureCollection(\"TIGER/2016/States\").filter(ee.Filter.eq('STATEFP', str(STATEFP)))\n",
        "counties = ee.FeatureCollection(\"TIGER/2016/Counties\").filter(ee.Filter.eq('STATEFP', str(STATEFP)))"
      ],
      "metadata": {
        "id": "R8DzB54zeb5t"
      },
      "execution_count": 4,
      "outputs": []
    },
    {
      "cell_type": "code",
      "source": [
        "elevation = ee.Image('USGS/NED').select('elevation')\n",
        "slope = ee.Terrain.slope(elevation).clip(state)"
      ],
      "metadata": {
        "id": "zxhFmnNte-cj"
      },
      "execution_count": 5,
      "outputs": []
    },
    {
      "cell_type": "code",
      "source": [
        "landcover2011 = ee.Image(\"USGS/NLCD/NLCD2006\").select('landcover').clip(state) \n",
        "landcover2016 = ee.Image(\"USGS/NLCD/NLCD2016\").select('landcover').clip(state)\n",
        "  \n",
        "impervious2011 = ee.Image(\"USGS/NLCD/NLCD2006\").select('impervious').clip(state)\n",
        "impervious2016 = ee.Image(\"USGS/NLCD/NLCD2016\").select('impervious').clip(state)"
      ],
      "metadata": {
        "id": "3LaAC865gJ-i"
      },
      "execution_count": 8,
      "outputs": []
    },
    {
      "cell_type": "code",
      "source": [
        "opticalBands = ['B1', 'B2', 'B3', 'B4', 'B5', 'B6', 'B7']\n",
        "thermalBands = ['B10', 'B11']\n",
        "\n",
        "def maskL8sr(image):\n",
        "  \n",
        "  #stock method to remove clouds\n",
        "  cloudShadowBitMask = ee.Number(2).pow(3).int()\n",
        "  cloudsBitMask = ee.Number(2).pow(5).int()\n",
        "  qa = image.select('pixel_qa')\n",
        "  mask1 = qa.bitwiseAnd(cloudShadowBitMask).eq(0).And(qa.bitwiseAnd(cloudsBitMask).eq(0))\n",
        "  mask2 = image.mask().reduce('min')\n",
        "  mask3 = image.select(opticalBands).gt(0).And(\n",
        "          image.select(opticalBands).lt(10000)).reduce('min')\n",
        "  mask = mask1.And(mask2).And(mask3)\n",
        "\n",
        "  #perform adjustments to make the numbers more sensical\n",
        "  return image.select(opticalBands).divide(10000).addBands(\n",
        "      image.select(thermalBands).divide(10).clamp(273.15, 373.15).subtract(273.15).divide(100)).updateMask(mask)"
      ],
      "metadata": {
        "id": "FrYxROOnfn7T"
      },
      "execution_count": 9,
      "outputs": []
    },
    {
      "cell_type": "code",
      "source": [
        "l8 = ee.ImageCollection('LANDSAT/LC08/C01/T1_SR').filterDate('2020-01-01', '2020-12-31').map(maskL8sr);"
      ],
      "metadata": {
        "id": "LsJAxB3KgF9t"
      },
      "execution_count": 10,
      "outputs": []
    },
    {
      "cell_type": "code",
      "source": [
        "def ndvier(image):\n",
        "  ndvied = image.normalizedDifference(['B5', 'B4']).rename('NDVI');\n",
        "  return image.addBands(ndvied);"
      ],
      "metadata": {
        "id": "Vk4aPF6uguFB"
      },
      "execution_count": 11,
      "outputs": []
    },
    {
      "cell_type": "code",
      "source": [
        "def ndwier(image):\n",
        "  ndwied = image.normalizedDifference(['B3', 'B5']).rename('NDWI');\n",
        "  return image.addBands(ndwied);"
      ],
      "metadata": {
        "id": "9GIB8SP_P5w0"
      },
      "execution_count": 12,
      "outputs": []
    },
    {
      "cell_type": "code",
      "source": [
        "def ndbier(image):\n",
        "  ndbied = image.normalizedDifference(['B6', 'B5']).rename('NDBI');\n",
        "  return image.addBands(ndbied);"
      ],
      "metadata": {
        "id": "RCd5-05iP7uf"
      },
      "execution_count": 13,
      "outputs": []
    },
    {
      "cell_type": "code",
      "source": [
        "ndvied = l8.map(ndvier).map(ndwier).map(ndbier)\n",
        "ndviest = ndvied.qualityMosaic('NDVI').select('NDVI').clip(state)\n",
        "ndwiest = ndvied.qualityMosaic('NDWI').select('NDWI').clip(state)\n",
        "ndbiest = ndvied.qualityMosaic('NDBI').select('NDBI').clip(state)"
      ],
      "metadata": {
        "id": "SxJyyQPjhHsm"
      },
      "execution_count": 14,
      "outputs": []
    },
    {
      "cell_type": "code",
      "source": [
        "nt2016 = ee.ImageCollection('NOAA/VIIRS/DNB/MONTHLY_V1/VCMCFG').filterDate('2016-01-01', '2016-12-31').select('avg_rad').qualityMosaic('avg_rad')\n",
        "nt2021 = ee.ImageCollection('NOAA/VIIRS/DNB/MONTHLY_V1/VCMCFG').filterDate('2021-01-01', '2021-12-31').select('avg_rad').qualityMosaic('avg_rad')"
      ],
      "metadata": {
        "id": "p7pdY6j-Q5w0"
      },
      "execution_count": 15,
      "outputs": []
    },
    {
      "cell_type": "code",
      "source": [
        "day = ee.ImageCollection([ee.Image(\"users/asrenninger/hi_day\"),\n",
        "                          ee.Image(\"users/asrenninger/ak_day\"),\n",
        "                          ee.Image(\"users/asrenninger/conus_day\")]).mosaic().rename('daytime_pop')\n",
        "night = ee.ImageCollection([ee.Image(\"users/asrenninger/hi_night\"),\n",
        "                            ee.Image(\"users/asrenninger/ak_night\"),\n",
        "                            ee.Image(\"users/asrenninger/conus_night\")]).mosaic().rename('nighttime_pop')"
      ],
      "metadata": {
        "id": "uBHZGalmQf3B"
      },
      "execution_count": 16,
      "outputs": []
    },
    {
      "cell_type": "code",
      "source": [
        "composite = landcover2016.addBands([landcover2011, impervious2016, impervious2011, nt2021, nt2016, day, night, slope, ndviest, ndwiest, ndbiest])\n",
        "composite = composite.clip(state)\n",
        "composite = composite.float()"
      ],
      "metadata": {
        "id": "PzDnMKuvhS0u"
      },
      "execution_count": 18,
      "outputs": []
    },
    {
      "cell_type": "code",
      "source": [
        "desc =  \"comp_\" + STATEFP\n",
        "print(desc)\n",
        "task = ee.batch.Export.image.toDrive(\n",
        "    image = composite,\n",
        "    folder = STATENM,\n",
        "    fileNamePrefix = desc,\n",
        "    description = desc, \n",
        "    crs = 'EPSG:3857',\n",
        "    region = state.geometry(), \n",
        "    scale = 30, \n",
        "    maxPixels = 1e13,\n",
        "  )\n",
        "\n",
        "task.start()"
      ],
      "metadata": {
        "colab": {
          "base_uri": "https://localhost:8080/"
        },
        "id": "tUy3fwbhlyC4",
        "outputId": "7d031053-cb34-4a4f-ba0d-2a45c235f49c"
      },
      "execution_count": 19,
      "outputs": [
        {
          "output_type": "stream",
          "name": "stdout",
          "text": [
            "comp_04\n"
          ]
        }
      ]
    },
    {
      "cell_type": "markdown",
      "source": [
        "# Legacy code"
      ],
      "metadata": {
        "id": "2Bl-gDnumel-"
      }
    },
    {
      "cell_type": "code",
      "source": [
        "countylist = counties.toList(counties.size())"
      ],
      "metadata": {
        "id": "tTUbghkZjAPb"
      },
      "execution_count": 42,
      "outputs": []
    },
    {
      "cell_type": "code",
      "source": [
        "for g in range(counties.size().getInfo()):  \n",
        "  COUNTYNM = ee.Feature(countylist.get(g)).get(\"NAME\").getInfo()\n",
        "  desc =  str(STATENM) + '_comp_' + str(COUNTYNM)\n",
        "  print(desc)\n",
        "  task = ee.batch.Export.image.toDrive(\n",
        "    image = composite,\n",
        "    folder = STATENM,\n",
        "    fileNamePrefix = desc,\n",
        "    description = desc, \n",
        "    crs = 'EPSG:3857',\n",
        "    region = ee.Feature(countylist.get(g)).geometry(), \n",
        "    scale = 30, \n",
        "    maxPixels = 1e13,\n",
        "  )\n",
        "\n",
        "  task.start()"
      ],
      "metadata": {
        "colab": {
          "base_uri": "https://localhost:8080/"
        },
        "id": "LwQKkFZTh9Rb",
        "outputId": "c7e769d7-3ce8-4113-9aa2-4a41c20833f7"
      },
      "execution_count": 43,
      "outputs": [
        {
          "output_type": "stream",
          "name": "stdout",
          "text": [
            "ARIZONA_comp_Cochise\n",
            "ARIZONA_comp_Pinal\n",
            "ARIZONA_comp_Graham\n",
            "ARIZONA_comp_Gila\n",
            "ARIZONA_comp_Navajo\n",
            "ARIZONA_comp_Coconino\n",
            "ARIZONA_comp_Yavapai\n",
            "ARIZONA_comp_Yuma\n",
            "ARIZONA_comp_Maricopa\n",
            "ARIZONA_comp_Mohave\n",
            "ARIZONA_comp_Santa Cruz\n",
            "ARIZONA_comp_Pima\n",
            "ARIZONA_comp_Greenlee\n",
            "ARIZONA_comp_Apache\n",
            "ARIZONA_comp_La Paz\n"
          ]
        }
      ]
    },
    {
      "cell_type": "code",
      "source": [
        ""
      ],
      "metadata": {
        "id": "WK6MOKQ_SHdb"
      },
      "execution_count": null,
      "outputs": []
    }
  ]
}